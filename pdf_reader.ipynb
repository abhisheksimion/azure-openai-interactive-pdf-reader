{
 "cells": [
  {
   "cell_type": "code",
   "execution_count": null,
   "id": "initial_id",
   "metadata": {
    "ExecuteTime": {
     "end_time": "2024-07-09T13:18:07.024090200Z",
     "start_time": "2024-07-09T13:18:07.009090Z"
    },
    "collapsed": true
   },
   "outputs": [],
   "source": [
    "import json\n",
    "import os\n",
    "from dotenv import load_dotenv\n",
    "from openai import AzureOpenAI\n",
    "import PyPDF2\n",
    "\n",
    "# Load environment variables from .env file\n",
    "load_dotenv()\n",
    "\n",
    "azure_api_key = os.getenv('AZURE_API_KEY')\n",
    "azure_endpoint = os.getenv('AZURE_ENDPOINT')\n",
    "azure_api_version = os.getenv('AZURE_API_VERSION')\n",
    "model_name = os.getenv('MODEL_NAME')\n",
    "\n",
    "print(f\"Azure API Key: {azure_api_key}, Azure Endpoint: {azure_endpoint}, Azure API Version: {azure_api_version}, Model name: {model_name}\")"
   ]
  },
  {
   "cell_type": "code",
   "execution_count": null,
   "id": "d18350d09c7ae53c",
   "metadata": {
    "ExecuteTime": {
     "end_time": "2024-07-09T13:18:10.335456800Z",
     "start_time": "2024-07-09T13:18:10.306459500Z"
    },
    "collapsed": false
   },
   "outputs": [],
   "source": [
    "client = AzureOpenAI(\n",
    "    api_key=azure_api_key,\n",
    "    api_version=azure_api_version,\n",
    "    azure_endpoint=azure_endpoint\n",
    ")"
   ]
  },
  {
   "cell_type": "code",
   "execution_count": null,
   "id": "80e0d6c46ac10167",
   "metadata": {
    "ExecuteTime": {
     "end_time": "2024-07-09T13:18:11.209058500Z",
     "start_time": "2024-07-09T13:18:11.194059900Z"
    },
    "collapsed": false
   },
   "outputs": [],
   "source": [
    "# Function to extract text from a PDF file\n",
    "def extract_text_from_pdf(pdf_file):\n",
    "    pdf_reader = PyPDF2.PdfReader(pdf_file)\n",
    "    text = ''\n",
    "    for page_num in range(len(pdf_reader.pages)):\n",
    "        page = pdf_reader.pages[page_num]\n",
    "        text += page.extract_text()\n",
    "    return text"
   ]
  },
  {
   "cell_type": "code",
   "execution_count": null,
   "id": "208eefea2cc340be",
   "metadata": {
    "ExecuteTime": {
     "end_time": "2024-07-09T13:18:13.972217400Z",
     "start_time": "2024-07-09T13:18:13.945223200Z"
    },
    "collapsed": false
   },
   "outputs": [],
   "source": [
    "# Example usage:\n",
    "pdf_file_path = 'example.pdf'  # Replace with your PDF file path\n",
    "pdf_text = extract_text_from_pdf(pdf_file_path)\n",
    "print(\"Extracted PDF Text:\")\n",
    "print(pdf_text)"
   ]
  },
  {
   "cell_type": "code",
   "execution_count": null,
   "id": "5dd404ed3947ead",
   "metadata": {
    "ExecuteTime": {
     "end_time": "2024-07-09T13:18:15.316708600Z",
     "start_time": "2024-07-09T13:18:15.302711Z"
    },
    "collapsed": false
   },
   "outputs": [],
   "source": [
    "system_prompt = \"\"\"You are a personal assistant to a developer. Your role is to answer user questions politely and competently.\n",
    "    You should follow these instructions to solve the case:\n",
    "    - You are provided with a PDF text to extract information.\n",
    "    - Understand the ask and get relevant instructions.\n",
    "    - Follow the instructions to provide solutions to users.\n",
    "    - Never modify the user query.\n",
    "    - Never modify the answer generated from the tool. However, make the content more user-friendly by formatting it in markdown, including headers, bullet points, and other markdown elements as appropriate.\n",
    "\n",
    "    Only call a tool once in a single message.\n",
    "    If you don't find an answer from the provided PDF document text, give a clear, say 'I cannot answer.' Never provide any dummy values.\n",
    "\"\"\""
   ]
  },
  {
   "cell_type": "code",
   "execution_count": null,
   "id": "4afd54698ae7c428",
   "metadata": {
    "ExecuteTime": {
     "end_time": "2024-07-09T13:18:17.380259900Z",
     "start_time": "2024-07-09T13:18:17.358260100Z"
    },
    "collapsed": false
   },
   "outputs": [],
   "source": [
    "messages = [\n",
    "        {\n",
    "            \"role\": \"system\",\n",
    "            \"content\": system_prompt\n",
    "        },\n",
    "        {\n",
    "            \"role\": \"user\",\n",
    "            \"content\": f'''PDF text: {pdf_text}'''\n",
    "        }\n",
    "    ]"
   ]
  },
  {
   "cell_type": "code",
   "execution_count": null,
   "id": "1c3bc66ebe553c6d",
   "metadata": {
    "ExecuteTime": {
     "end_time": "2024-07-09T13:18:19.292120500Z",
     "start_time": "2024-07-09T13:18:19.271123400Z"
    },
    "collapsed": false
   },
   "outputs": [],
   "source": [
    "# Example integration with OpenAI\n",
    "print(f\"Azure API Key: {azure_api_key}, Azure Endpoint: {azure_endpoint}, Azure API Version: {azure_api_version}, Model name: {model_name}\")\n",
    "\n",
    "def ask_question(messages, user_query):\n",
    "    # Append the new user query to the messages list\n",
    "    messages.append({\n",
    "        \"role\": \"user\",\n",
    "        \"content\": user_query\n",
    "    })\n",
    "\n",
    "    try:\n",
    "        response = client.chat.completions.create(\n",
    "            model=model_name,\n",
    "            messages=messages,\n",
    "            temperature=0,\n",
    "            max_tokens=500,\n",
    "            frequency_penalty=0,\n",
    "            presence_penalty=0,\n",
    "            stop=None,\n",
    "        )\n",
    "        \n",
    "        final_result = json.loads(response.model_dump_json(indent=2))\n",
    "        model_reply = final_result['choices'][0]['message']['content']\n",
    "        \n",
    "        # Append the AI's response to the messages list\n",
    "        messages.append({\n",
    "            \"role\": \"assistant\",\n",
    "            \"content\": model_reply\n",
    "        })\n",
    "        \n",
    "        return model_reply\n",
    "    except json.JSONDecodeError as e:\n",
    "        return f\"JSON decode error: {e}\"\n",
    "    except Exception as e:\n",
    "        return f\"Unexpected error: {e}\"\n"
   ]
  },
  {
   "cell_type": "code",
   "execution_count": null,
   "id": "349d6da16aef22f1",
   "metadata": {
    "ExecuteTime": {
     "end_time": "2024-07-09T13:34:51.426698300Z",
     "start_time": "2024-07-09T13:18:31.429344200Z"
    },
    "collapsed": false
   },
   "outputs": [],
   "source": [
    "# Interactive Loop\n",
    "while True:\n",
    "    user_query = input(\"Enter your question (or 'exit' to quit): \")\n",
    "    if user_query.lower() == 'exit':\n",
    "        break\n",
    "    answer = ask_question(messages, user_query)\n",
    "    print(f\"AI Answer: {answer}\")"
   ]
  },
  {
   "cell_type": "code",
   "execution_count": null,
   "id": "cfacd49544d605b4",
   "metadata": {
    "ExecuteTime": {
     "end_time": "2024-07-09T12:46:27.514643900Z",
     "start_time": "2024-07-09T12:46:27.358645900Z"
    },
    "collapsed": false
   },
   "outputs": [],
   "source": []
  },
  {
   "cell_type": "code",
   "execution_count": null,
   "id": "aae711a7b31755b2",
   "metadata": {
    "collapsed": false
   },
   "outputs": [],
   "source": []
  }
 ],
 "metadata": {
  "kernelspec": {
   "display_name": "Python 3",
   "language": "python",
   "name": "python3"
  },
  "language_info": {
   "codemirror_mode": {
    "name": "ipython",
    "version": 2
   },
   "file_extension": ".py",
   "mimetype": "text/x-python",
   "name": "python",
   "nbconvert_exporter": "python",
   "pygments_lexer": "ipython2",
   "version": "2.7.6"
  }
 },
 "nbformat": 4,
 "nbformat_minor": 5
}
